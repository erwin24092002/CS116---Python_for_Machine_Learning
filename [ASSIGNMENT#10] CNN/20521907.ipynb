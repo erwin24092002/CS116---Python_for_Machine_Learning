{
  "nbformat": 4,
  "nbformat_minor": 0,
  "metadata": {
    "colab": {
      "provenance": []
    },
    "kernelspec": {
      "name": "python3",
      "display_name": "Python 3"
    },
    "accelerator": "GPU",
    "gpuClass": "standard"
  },
  "cells": [
    {
      "cell_type": "code",
      "metadata": {
        "id": "QOwcpLbYHno7",
        "colab": {
          "base_uri": "https://localhost:8080/"
        },
        "outputId": "a9fbd4ad-ded6-44d5-cdf8-ed0819d9378d"
      },
      "source": [
        "from keras.datasets import mnist\n",
        "\n",
        "(x_train, y_train), (x_test, y_test) = mnist.load_data()\n",
        "\n",
        "print(x_train.shape)\n",
        "print(y_train.shape)\n",
        "print(x_test.shape)\n",
        "print(y_test.shape)\n"
      ],
      "execution_count": 80,
      "outputs": [
        {
          "output_type": "stream",
          "name": "stdout",
          "text": [
            "(60000, 28, 28)\n",
            "(60000,)\n",
            "(10000, 28, 28)\n",
            "(10000,)\n"
          ]
        }
      ]
    },
    {
      "cell_type": "code",
      "metadata": {
        "id": "hjbM2ZrWON53"
      },
      "source": [
        "import numpy as np\n",
        "\n",
        "def onehot(y):\n",
        "  oh = np.zeros((y.shape[0], 10))\n",
        "  for i in range(y.shape[0]):\n",
        "    oh[i, int(y[i])]=1\n",
        "  return oh"
      ],
      "execution_count": 81,
      "outputs": []
    },
    {
      "cell_type": "code",
      "metadata": {
        "id": "XSRZ6AMNWWQg"
      },
      "source": [
        "import numpy as np\n",
        "def norm_zero_one(x_train):\n",
        "  min_val = np.min(x_train)\n",
        "  max_val = np.max(x_train)\n",
        "  x_train_norm = (x_train-min_val)/(max_val-min_val)\n",
        "  return x_train_norm\n",
        "\n",
        "def norm_normal_dist(x_train):\n",
        "  mean_val = np.mean(x_train)\n",
        "  std_val = np.std(x_train)\n",
        "  x_train_norm = (x_train-mean_val)/std_val\n",
        "  return x_train_norm"
      ],
      "execution_count": 82,
      "outputs": []
    },
    {
      "cell_type": "code",
      "metadata": {
        "id": "-HXJByzMMyWq"
      },
      "source": [
        "from sklearn import preprocessing\n",
        "import numpy as np\n",
        "\n",
        "#enc = preprocessing.OneHotEncoder()\n",
        "\n",
        "#enc.fit(y_train)\n",
        "\n",
        "#y_train_oh = enc.transform(y_train).toarray()\n",
        "#y_train_oh.shape\n",
        "y_train_oh = onehot(y_train)\n",
        "y_train_oh.shape\n",
        "\n",
        "y_test_oh = onehot(y_test)\n",
        "y_test_oh.shape\n",
        "\n",
        "x_train_norm = x_train / 255.0\n",
        "x_test_norm = x_test / 255.0\n",
        "\n",
        "#x_train_norm = x_train_norm[:,:,:, np.newaxis] # Optional: Convert 60000x28x28 -> 60000x28x28x1\n",
        "#x_test_norm = x_test_norm[:,:,:, np.newaxis] # Optional: Convert 60000x28x28 -> 60000x28x28x1"
      ],
      "execution_count": 83,
      "outputs": []
    },
    {
      "cell_type": "markdown",
      "source": [
        "# Baseline"
      ],
      "metadata": {
        "id": "YCYJ0LqkeMZY"
      }
    },
    {
      "cell_type": "code",
      "source": [
        "from keras.layers import Input, Dense, Conv2D, MaxPooling2D, Flatten\n",
        "from keras.models import load_model, Model\n",
        "import tensorflow as tf\n",
        "import keras\n",
        "import time \n",
        "from sklearn.metrics import accuracy_score\n",
        "\n",
        "class LeNetCNN:\n",
        "  # constructor\n",
        "  def __init__(self):\n",
        "    self.model = None\n",
        "\n",
        "  # Define structure of the CNN\n",
        "  def build(self, input_dim):\n",
        "    input = Input(shape = input_dim) # X dau vao cua minh\n",
        "    C1 = Conv2D(6, (3, 3), padding='same', activation='relu')(input)\n",
        "    S2 = MaxPooling2D(pool_size=(2, 2), padding=\"same\")(C1)\n",
        "    C3 = Conv2D(16, (3, 3), padding='same', activation='relu')(S2)\n",
        "    S4 = MaxPooling2D(pool_size=(2, 2), padding=\"same\")(C3)\n",
        "\n",
        "    flat = Flatten()(S4)\n",
        "    # These like ANN\n",
        "    F5 = Dense(120, activation='relu', use_bias=True)(flat)\n",
        "    F6 = Dense(84, activation='relu', use_bias=True)(F5)\n",
        "    output = Dense(10, activation='softmax', use_bias=True)(F6) # y~ output\n",
        "    self.model = Model(input, output)\n",
        "  \n",
        "  # Train the model\n",
        "  def train(self, x_train, y_train, x_val, y_val): # x_train chinh la X, y_train chinh la ground-truth\n",
        "    sgd = keras.optimizers.SGD(learning_rate=0.01)\n",
        "    adam = keras.optimizers.Adam(learning_rate=0.01)\n",
        "    self.model.compile(optimizer=sgd, loss = 'categorical_crossentropy', metrics=['accuracy'])\n",
        "    self.model.fit(x_train, y_train, validation_data = (x_val, y_val), epochs = 5, batch_size = 128)\n",
        "  \n",
        "  # Load model from file\n",
        "  def load(self, model_file):\n",
        "    self.model = load_model(model_file)\n",
        "  \n",
        "  # save the trained model\n",
        "  def save(self, model_file):\n",
        "    self.model.save(model_file)\n",
        "  \n",
        "  # Show the architecture of the model\n",
        "  def summary(self):\n",
        "    self.model.summary()\n",
        "\n",
        "  # Test the model with a given input\n",
        "  def predict(self, x_test):\n",
        "    return self.model.predict(x_test)\n",
        "\n",
        "  def evaluate(self, x_test, y_test):\n",
        "    return self.model.evaluate(x_test, y_test)\n",
        "\n",
        "  def get_num_params(self):\n",
        "    train_params = np.sum([np.prod(v.get_shape()) for v in self.model.trainable_weights])\n",
        "    non_train_params = np.sum([np.prod(v.get_shape()) for v in self.model.non_trainable_weights])\n",
        "    return [train_params, non_train_params]\n",
        "    "
      ],
      "metadata": {
        "id": "0kgBUjfeeLNF"
      },
      "execution_count": 84,
      "outputs": []
    },
    {
      "cell_type": "code",
      "source": [
        "cnn = LeNetCNN()\n",
        "cnn.build((28, 28, 1))\n",
        "cnn.summary()\n",
        "start = time.time()\n",
        "cnn.train(x_train_norm, y_train_oh, x_test_norm, y_test_oh)\n",
        "cnn_time = time.time() - start \n",
        "cnn_score = cnn.evaluate(x_test_norm, y_test_oh)"
      ],
      "metadata": {
        "colab": {
          "base_uri": "https://localhost:8080/"
        },
        "id": "4vZiJW2ye1Hz",
        "outputId": "e43f7628-4ff1-4d71-fe8f-1efa997fa38a"
      },
      "execution_count": 85,
      "outputs": [
        {
          "output_type": "stream",
          "name": "stdout",
          "text": [
            "Model: \"model_18\"\n",
            "_________________________________________________________________\n",
            " Layer (type)                Output Shape              Param #   \n",
            "=================================================================\n",
            " input_19 (InputLayer)       [(None, 28, 28, 1)]       0         \n",
            "                                                                 \n",
            " conv2d_44 (Conv2D)          (None, 28, 28, 6)         60        \n",
            "                                                                 \n",
            " max_pooling2d_30 (MaxPoolin  (None, 14, 14, 6)        0         \n",
            " g2D)                                                            \n",
            "                                                                 \n",
            " conv2d_45 (Conv2D)          (None, 14, 14, 16)        880       \n",
            "                                                                 \n",
            " max_pooling2d_31 (MaxPoolin  (None, 7, 7, 16)         0         \n",
            " g2D)                                                            \n",
            "                                                                 \n",
            " flatten_18 (Flatten)        (None, 784)               0         \n",
            "                                                                 \n",
            " dense_52 (Dense)            (None, 120)               94200     \n",
            "                                                                 \n",
            " dense_53 (Dense)            (None, 84)                10164     \n",
            "                                                                 \n",
            " dense_54 (Dense)            (None, 10)                850       \n",
            "                                                                 \n",
            "=================================================================\n",
            "Total params: 106,154\n",
            "Trainable params: 106,154\n",
            "Non-trainable params: 0\n",
            "_________________________________________________________________\n",
            "Epoch 1/5\n",
            "469/469 [==============================] - 2s 5ms/step - loss: 1.6357 - accuracy: 0.5081 - val_loss: 0.4895 - val_accuracy: 0.8566\n",
            "Epoch 2/5\n",
            "469/469 [==============================] - 2s 5ms/step - loss: 0.3638 - accuracy: 0.8902 - val_loss: 0.3059 - val_accuracy: 0.9056\n",
            "Epoch 3/5\n",
            "469/469 [==============================] - 2s 4ms/step - loss: 0.2497 - accuracy: 0.9234 - val_loss: 0.2067 - val_accuracy: 0.9381\n",
            "Epoch 4/5\n",
            "469/469 [==============================] - 3s 5ms/step - loss: 0.1966 - accuracy: 0.9404 - val_loss: 0.1723 - val_accuracy: 0.9456\n",
            "Epoch 5/5\n",
            "469/469 [==============================] - 3s 5ms/step - loss: 0.1613 - accuracy: 0.9511 - val_loss: 0.1407 - val_accuracy: 0.9555\n",
            "313/313 [==============================] - 1s 4ms/step - loss: 0.1407 - accuracy: 0.9555\n"
          ]
        }
      ]
    },
    {
      "cell_type": "markdown",
      "source": [
        "# Without Activate Function"
      ],
      "metadata": {
        "id": "ghFUD6kdcUSQ"
      }
    },
    {
      "cell_type": "code",
      "source": [
        "class LeNetCNN_withoutActivateFunction:\n",
        "  # constructor\n",
        "  def __init__(self):\n",
        "    self.model = None\n",
        "\n",
        "  # Define structure of the CNN\n",
        "  def build(self, input_dim):\n",
        "    input = Input(shape = input_dim) # X dau vao cua minh\n",
        "    C1 = Conv2D(6, (3, 3), padding='same', activation=None)(input)\n",
        "    S2 = MaxPooling2D(pool_size=(2, 2), padding=\"same\")(C1)\n",
        "    C3 = Conv2D(16, (3, 3), padding='same', activation=None)(S2)\n",
        "    S4 = MaxPooling2D(pool_size=(2, 2), padding=\"same\")(C3)\n",
        "\n",
        "    flat = Flatten()(S4)\n",
        "    # These like ANN\n",
        "    F5 = Dense(120, activation=None, use_bias=True)(flat)\n",
        "    F6 = Dense(84, activation=None, use_bias=True)(F5)\n",
        "    output = Dense(10, activation=None, use_bias=True)(F6) # y~ output\n",
        "    self.model = Model(input, output)\n",
        "  \n",
        "  # Train the model\n",
        "  def train(self, x_train, y_train, x_val, y_val): # x_train chinh la X, y_train chinh la ground-truth\n",
        "    sgd = keras.optimizers.SGD(learning_rate=0.01)\n",
        "    adam = keras.optimizers.Adam(learning_rate=0.01)\n",
        "    self.model.compile(optimizer=sgd, loss = 'categorical_crossentropy', metrics=['accuracy'])\n",
        "    self.model.fit(x_train, y_train, validation_data = (x_val, y_val), epochs = 5, batch_size = 128)\n",
        "  \n",
        "  # Load model from file\n",
        "  def load(self, model_file):\n",
        "    self.model = load_model(model_file)\n",
        "  \n",
        "  # save the trained model\n",
        "  def save(self, model_file):\n",
        "    self.model.save(model_file)\n",
        "  \n",
        "  # Show the architecture of the model\n",
        "  def summary(self):\n",
        "    self.model.summary()\n",
        "\n",
        "  # Test the model with a given input\n",
        "  def predict(self, x_test):\n",
        "    return self.model.predict(x_test)\n",
        "\n",
        "  def evaluate(self, x_test, y_test):\n",
        "    return self.model.evaluate(x_test, y_test)\n",
        "\n",
        "  def get_num_params(self):\n",
        "    train_params = np.sum([np.prod(v.get_shape()) for v in self.model.trainable_weights])\n",
        "    non_train_params = np.sum([np.prod(v.get_shape()) for v in self.model.non_trainable_weights])\n",
        "    return [train_params, non_train_params]"
      ],
      "metadata": {
        "id": "MuG7coL6cQVp"
      },
      "execution_count": 86,
      "outputs": []
    },
    {
      "cell_type": "code",
      "source": [
        "cnn_withoutActivateFunction = LeNetCNN_withoutActivateFunction()\n",
        "cnn_withoutActivateFunction.build((28, 28, 1))\n",
        "cnn_withoutActivateFunction.summary()\n",
        "start = time.time()\n",
        "cnn_withoutActivateFunction.train(x_train_norm, y_train_oh, x_test_norm, y_test_oh)\n",
        "cnn_withoutActivateFunction_time = time.time() - start \n",
        "cnn_withoutActivateFunction_score = cnn_withoutActivateFunction.evaluate(x_test_norm, y_test_oh)"
      ],
      "metadata": {
        "colab": {
          "base_uri": "https://localhost:8080/"
        },
        "id": "QCCixtmXe6m5",
        "outputId": "3157e0b8-f982-45b1-b038-f11bc0219b1c"
      },
      "execution_count": 87,
      "outputs": [
        {
          "output_type": "stream",
          "name": "stdout",
          "text": [
            "Model: \"model_19\"\n",
            "_________________________________________________________________\n",
            " Layer (type)                Output Shape              Param #   \n",
            "=================================================================\n",
            " input_20 (InputLayer)       [(None, 28, 28, 1)]       0         \n",
            "                                                                 \n",
            " conv2d_46 (Conv2D)          (None, 28, 28, 6)         60        \n",
            "                                                                 \n",
            " max_pooling2d_32 (MaxPoolin  (None, 14, 14, 6)        0         \n",
            " g2D)                                                            \n",
            "                                                                 \n",
            " conv2d_47 (Conv2D)          (None, 14, 14, 16)        880       \n",
            "                                                                 \n",
            " max_pooling2d_33 (MaxPoolin  (None, 7, 7, 16)         0         \n",
            " g2D)                                                            \n",
            "                                                                 \n",
            " flatten_19 (Flatten)        (None, 784)               0         \n",
            "                                                                 \n",
            " dense_55 (Dense)            (None, 120)               94200     \n",
            "                                                                 \n",
            " dense_56 (Dense)            (None, 84)                10164     \n",
            "                                                                 \n",
            " dense_57 (Dense)            (None, 10)                850       \n",
            "                                                                 \n",
            "=================================================================\n",
            "Total params: 106,154\n",
            "Trainable params: 106,154\n",
            "Non-trainable params: 0\n",
            "_________________________________________________________________\n",
            "Epoch 1/5\n",
            "469/469 [==============================] - 3s 5ms/step - loss: 8.1018 - accuracy: 0.0979 - val_loss: 8.3009 - val_accuracy: 0.0976\n",
            "Epoch 2/5\n",
            "469/469 [==============================] - 2s 5ms/step - loss: 8.4212 - accuracy: 0.0978 - val_loss: 8.4475 - val_accuracy: 0.0974\n",
            "Epoch 3/5\n",
            "469/469 [==============================] - 2s 5ms/step - loss: 8.5321 - accuracy: 0.0978 - val_loss: 8.5571 - val_accuracy: 0.0975\n",
            "Epoch 4/5\n",
            "469/469 [==============================] - 2s 4ms/step - loss: 8.4814 - accuracy: 0.0978 - val_loss: 8.5507 - val_accuracy: 0.0975\n",
            "Epoch 5/5\n",
            "469/469 [==============================] - 2s 4ms/step - loss: 8.5077 - accuracy: 0.0978 - val_loss: 8.4217 - val_accuracy: 0.0975\n",
            "313/313 [==============================] - 1s 3ms/step - loss: 8.4217 - accuracy: 0.0975\n"
          ]
        }
      ]
    },
    {
      "cell_type": "markdown",
      "source": [
        "# Without Pooling"
      ],
      "metadata": {
        "id": "ihrQFs4KctwR"
      }
    },
    {
      "cell_type": "code",
      "source": [
        "class LeNetCNN_withoutPooling:\n",
        "  # constructor\n",
        "  def __init__(self):\n",
        "    self.model = None\n",
        "\n",
        "  # Define structure of the CNN\n",
        "  def build(self, input_dim):\n",
        "    input = Input(shape = input_dim) # X dau vao cua minh\n",
        "    C1 = Conv2D(6, (3, 3), padding='same', activation='relu')(input)\n",
        "    # S2 = MaxPooling2D(pool_size=(2, 2), padding=\"same\")(C1)\n",
        "    C3 = Conv2D(16, (3, 3), padding='same', activation='relu')(C1)\n",
        "    # S4 = MaxPooling2D(pool_size=(2, 2), padding=\"same\")(C3)\n",
        "\n",
        "    flat = Flatten()(C3)\n",
        "    # These like ANN\n",
        "    F5 = Dense(120, activation='relu', use_bias=True)(flat)\n",
        "    F6 = Dense(84, activation='relu', use_bias=True)(F5)\n",
        "    output = Dense(10, activation='softmax', use_bias=True)(F6) # y~ output\n",
        "    self.model = Model(input, output)\n",
        "  \n",
        "  # Train the model\n",
        "  def train(self, x_train, y_train, x_val, y_val): # x_train chinh la X, y_train chinh la ground-truth\n",
        "    sgd = keras.optimizers.SGD(learning_rate=0.01)\n",
        "    adam = keras.optimizers.Adam(learning_rate=0.01)\n",
        "    self.model.compile(optimizer=sgd, loss = 'categorical_crossentropy', metrics=['accuracy'])\n",
        "    self.model.fit(x_train, y_train, validation_data = (x_val, y_val), epochs = 5, batch_size = 128)\n",
        "  \n",
        "  # Load model from file\n",
        "  def load(self, model_file):\n",
        "    self.model = load_model(model_file)\n",
        "  \n",
        "  # save the trained model\n",
        "  def save(self, model_file):\n",
        "    self.model.save(model_file)\n",
        "  \n",
        "  # Show the architecture of the model\n",
        "  def summary(self):\n",
        "    self.model.summary()\n",
        "\n",
        "  # Test the model with a given input\n",
        "  def predict(self, x_test):\n",
        "    return self.model.predict(x_test)\n",
        "\n",
        "  def evaluate(self, x_test, y_test):\n",
        "    return self.model.evaluate(x_test, y_test)"
      ],
      "metadata": {
        "id": "HDmSvm4TctKK"
      },
      "execution_count": 88,
      "outputs": []
    },
    {
      "cell_type": "code",
      "source": [
        "cnn_withoutPooling = LeNetCNN_withoutPooling()\n",
        "cnn_withoutPooling.build((28, 28, 1))\n",
        "cnn_withoutPooling.summary()\n",
        "start = time.time()\n",
        "cnn_withoutPooling.train(x_train_norm, y_train_oh, x_test_norm, y_test_oh)\n",
        "cnn_withoutPooling_time = time.time() - start \n",
        "cnn_withoutPooling_score = cnn_withoutPooling.evaluate(x_test_norm, y_test_oh)"
      ],
      "metadata": {
        "colab": {
          "base_uri": "https://localhost:8080/"
        },
        "id": "2sS2ii1AfDR5",
        "outputId": "9646acb5-99ea-4372-b90a-7cacceeedc04"
      },
      "execution_count": 89,
      "outputs": [
        {
          "output_type": "stream",
          "name": "stdout",
          "text": [
            "Model: \"model_20\"\n",
            "_________________________________________________________________\n",
            " Layer (type)                Output Shape              Param #   \n",
            "=================================================================\n",
            " input_21 (InputLayer)       [(None, 28, 28, 1)]       0         \n",
            "                                                                 \n",
            " conv2d_48 (Conv2D)          (None, 28, 28, 6)         60        \n",
            "                                                                 \n",
            " conv2d_49 (Conv2D)          (None, 28, 28, 16)        880       \n",
            "                                                                 \n",
            " flatten_20 (Flatten)        (None, 12544)             0         \n",
            "                                                                 \n",
            " dense_58 (Dense)            (None, 120)               1505400   \n",
            "                                                                 \n",
            " dense_59 (Dense)            (None, 84)                10164     \n",
            "                                                                 \n",
            " dense_60 (Dense)            (None, 10)                850       \n",
            "                                                                 \n",
            "=================================================================\n",
            "Total params: 1,517,354\n",
            "Trainable params: 1,517,354\n",
            "Non-trainable params: 0\n",
            "_________________________________________________________________\n",
            "Epoch 1/5\n",
            "469/469 [==============================] - 3s 5ms/step - loss: 0.5327 - accuracy: 0.8548 - val_loss: 0.2465 - val_accuracy: 0.9261\n",
            "Epoch 2/5\n",
            "469/469 [==============================] - 2s 4ms/step - loss: 0.2048 - accuracy: 0.9393 - val_loss: 0.1779 - val_accuracy: 0.9477\n",
            "Epoch 3/5\n",
            "469/469 [==============================] - 2s 5ms/step - loss: 0.1565 - accuracy: 0.9537 - val_loss: 0.1580 - val_accuracy: 0.9517\n",
            "Epoch 4/5\n",
            "469/469 [==============================] - 2s 4ms/step - loss: 0.1301 - accuracy: 0.9610 - val_loss: 0.1144 - val_accuracy: 0.9647\n",
            "Epoch 5/5\n",
            "469/469 [==============================] - 2s 4ms/step - loss: 0.1112 - accuracy: 0.9670 - val_loss: 0.1360 - val_accuracy: 0.9579\n",
            "313/313 [==============================] - 1s 3ms/step - loss: 0.1360 - accuracy: 0.9579\n"
          ]
        }
      ]
    },
    {
      "cell_type": "markdown",
      "source": [
        "# Result"
      ],
      "metadata": {
        "id": "5qYMyOpldLWr"
      }
    },
    {
      "cell_type": "code",
      "source": [
        "print(\"Baseline: Training time: {:.2f} - Accuracy: {:.2f}\".format(cnn_time, cnn_score[1]))\n",
        "print(\"Without Activate Function: Training time: {:.2f} - Accuracy: {:.2f}\".format(cnn_withoutActivateFunction_time, cnn_withoutActivateFunction_score[1]))\n",
        "print(\"Without Pooling: {:.2f} - Accuracy: {:.2f}\".format(cnn_withoutPooling_time, cnn_withoutPooling_score[1]))"
      ],
      "metadata": {
        "colab": {
          "base_uri": "https://localhost:8080/"
        },
        "id": "Nq8bW_-mb6Fz",
        "outputId": "78ede77f-b31e-408e-9312-0554a2c93a8e"
      },
      "execution_count": 90,
      "outputs": [
        {
          "output_type": "stream",
          "name": "stdout",
          "text": [
            "Baseline: Training time: 12.04 - Accuracy: 0.96\n",
            "Without Activate Function: Training time: 11.41 - Accuracy: 0.10\n",
            "Without Pooling: 11.47 - Accuracy: 0.96\n"
          ]
        }
      ]
    },
    {
      "cell_type": "code",
      "source": [],
      "metadata": {
        "id": "E-pm1ywwikQ2"
      },
      "execution_count": 90,
      "outputs": []
    }
  ]
}